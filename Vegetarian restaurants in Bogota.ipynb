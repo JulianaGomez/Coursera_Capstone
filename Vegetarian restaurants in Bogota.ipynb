{
 "cells": [
  {
   "cell_type": "markdown",
   "metadata": {},
   "source": [
    "# Selecting the best Bogota neighborhood to open a vegetarian restaurant in"
   ]
  },
  {
   "cell_type": "markdown",
   "metadata": {},
   "source": [
    "## **1. Introduction/Business Problem**"
   ]
  },
  {
   "cell_type": "markdown",
   "metadata": {},
   "source": [
    "### Restaurants are tending to cater to vegetarians more and more every day. In the United Kingdom, a third of all meals are meatless (https://www.bbc.co.uk/news/uk-42973870). Likewise, more vegetarian products are being produced, such as the Beyond meat patty. According to a recent Gallup survey, According to Gallup, sales of plant-based food grew 8.1 percent in 2017 and exceeded 3.1 billion last year.\n",
    "\n",
    "### In Bogota, in 2019, there were close to 200 restaurants with vegetarian options(https://www.dinero.com/edicion-impresa/negocios/articulo/oferta-del-mercado-vegano-y-vegetariano-en-colombia/267318). However, truly vegetarian or vegan restaurants are limited; according to Happy Cow, a webpages which recommends these types of restaurants, there are currently only 92 exclusively vegan or vegetarian restaurants in the area. Most people who identify as vegetarians in Bogota, according to a Sodezo survey, are in their twenties or thirties (https://www.rcnradio.com/estilo-de-vida/hay-mas-de-600-millones-de-vegetarianos-en-el-mundo#:~:text=En%20Colombia%20esta%20poblaci%C3%B3n%2C%20en,los%2020%20y%2030%20a%C3%B1os.&text=El%20estudio%20revel%C3%B3%20adem%C3%A1s%20que,carne)%20y%209%20%25%20vegano). \n",
    "\n",
    "### Bogota is ganining popularity amongst international tourists, which is one of the reasons why more vegetarian restaurants have been opening in the city. According to a study carried out by the Colombian Restaurant Association (Acodres) and the National Consulting Center (CNC), Bogota is one of the most popular destinations or restaurant owners to invest in.Here, they target their restaurants usually to upper-middle class citizens (https://www.eltiempo.com/archivo/documento/CMS-3164528).\n",
    "\n",
    "### Taking into account the reasons previously stated, this project will focus on the best location for a vegetarian restaurant, which meets the following requirements: \n",
    "### - A large population in the neighbourhood is in their twenties or thirties.\n",
    "### - The neighbourhoods GDP per capita is amongst the highest in the city. \n",
    "### - People who visit that neighbourhood are interested in things which usually cluster well with vegetarianism. "
   ]
  },
  {
   "cell_type": "markdown",
   "metadata": {},
   "source": [
    "## **2. Data**"
   ]
  },
  {
   "cell_type": "markdown",
   "metadata": {},
   "source": [
    "### Taking into account the target population the following data will be used: "
   ]
  },
  {
   "cell_type": "markdown",
   "metadata": {},
   "source": [
    "### **a. A large population in the neighbourhood is in their twenties or thirties:** \n",
    "### Demographic data available from the open data portal https://datosabiertos.bogota.gov.co/, downloaded as csv and loaded as follows:"
   ]
  },
  {
   "cell_type": "code",
   "execution_count": 4,
   "metadata": {},
   "outputs": [],
   "source": [
    "import pandas as pd"
   ]
  },
  {
   "cell_type": "code",
   "execution_count": 32,
   "metadata": {},
   "outputs": [
    {
     "name": "stdout",
     "output_type": "stream",
     "text": [
      "Demographic data loaded successfully!\n"
     ]
    },
    {
     "data": {
      "text/plain": [
       "<bound method NDFrame.head of          Área    Grupos de edad  Hombres  Mujeres    Total   Año\n",
       "0      Bogotá               0-4  304.095  290.790  594.885  2005\n",
       "1      Bogotá               5-9  317.962  305.340  623.302  2005\n",
       "2      Bogotá             10-14  325.522  312.530  638.052  2005\n",
       "3      Bogotá             15-19  307.736  300.289  608.025  2005\n",
       "4      Bogotá             20-24  308.620  335.953  644.573  2005\n",
       "...       ...               ...      ...      ...      ...   ...\n",
       "1147  Sumapaz             65-69      103      123      226  2019\n",
       "1148  Sumapaz             70-74       76       95      171  2019\n",
       "1149  Sumapaz             75-79       57       75      132  2019\n",
       "1150  Sumapaz          80 y más       53       83      136  2019\n",
       "1151  Sumapaz  Población total     3.939    3.772    7.711  2019\n",
       "\n",
       "[1152 rows x 6 columns]>"
      ]
     },
     "execution_count": 32,
     "metadata": {},
     "output_type": "execute_result"
    }
   ],
   "source": [
    "#Demographic data, by burrough OJO: NO ESTÁ EN UN FORMATO FÁCIL, BUSCAR OTRAS OPCIONES\n",
    "demo = pd.read_csv('/resources/data/piramideporlocalidad.csv',sep=',')\n",
    "print(\"Demographic data loaded successfully!\")\n",
    "demo.head"
   ]
  },
  {
   "cell_type": "markdown",
   "metadata": {},
   "source": [
    "### **b. The burroughs's GDP per capita is amongst the highest in the city:** \n",
    "### - Data on longitude and latitude for each neighbourhood, within each borough in Bogotá, available from the open data portal https://datosabiertos.bogota.gov.co/, downloaded as csv and loaded as follows:\n"
   ]
  },
  {
   "cell_type": "code",
   "execution_count": 26,
   "metadata": {},
   "outputs": [
    {
     "name": "stdout",
     "output_type": "stream",
     "text": [
      "Location data loaded successfully!\n"
     ]
    },
    {
     "data": {
      "text/plain": [
       "<bound method NDFrame.head of       OBJECTID  Codigo Localidad       Localidad         Estado  \\\n",
       "0            2                 1         Usaquén  SIN LEGALIZAR   \n",
       "1            6                 2       Chapinero  SIN LEGALIZAR   \n",
       "2            9                10        Engativá  SIN LEGALIZAR   \n",
       "3           11                 1         Usaquén     LEGALIZADO   \n",
       "4           13                 1         Usaquén  SIN LEGALIZAR   \n",
       "...        ...               ...             ...            ...   \n",
       "3866      3853                15  Antonio Nariño     LEGALIZADO   \n",
       "3867      3854                 4   San Cristóbal     LEGALIZADO   \n",
       "3868      3856                 4   San Cristóbal     LEGALIZADO   \n",
       "3869      3861                15  Antonio Nariño     LEGALIZADO   \n",
       "3870      3867                19  Ciudad Bolívar  SIN LEGALIZAR   \n",
       "\n",
       "                              Nombre  Codigo             coord_x  \\\n",
       "0     Páramo - Escuela de Caballería   10155  -74,02612636020883   \n",
       "1              Pinar Alto - Pinar II   20056  -74,04786567769551   \n",
       "2                          Torquigua  100237   -74,1429181411334   \n",
       "3                           San Luís   10199  -74,01968549043077   \n",
       "4                      Tafur Morales   10225  -74,03087036189147   \n",
       "...                              ...     ...                 ...   \n",
       "3866                     San_Antonio  150017  -74,09468410687121   \n",
       "3867         El Balcón de la Castaña   40045  -74,08025272684624   \n",
       "3868          Urb. La Coruña del Sur   40221   -74,0990278562246   \n",
       "3869          Policarpa Salavarrieta  150011  -74,08863143002152   \n",
       "3870                     Divino Niño  190274  -74,13689516371589   \n",
       "\n",
       "                 coord_y  \n",
       "0       4,67908997903364  \n",
       "1      4,661800040297917  \n",
       "2      4,720853047462724  \n",
       "3      4,675894851403755  \n",
       "4      4,736572829776965  \n",
       "...                  ...  \n",
       "3866   4,590090283197529  \n",
       "3867    4,56485578041943  \n",
       "3868   4,569594796040262  \n",
       "3869  4,5870640722280385  \n",
       "3870   4,533307801779151  \n",
       "\n",
       "[3871 rows x 8 columns]>"
      ]
     },
     "execution_count": 26,
     "metadata": {},
     "output_type": "execute_result"
    }
   ],
   "source": [
    "#Location data, by burrough and neighborhood\n",
    "locdf = pd.read_csv('/resources/data/georef.csv')\n",
    "print(\"Location data loaded successfully!\")\n",
    "locdf.head"
   ]
  },
  {
   "cell_type": "markdown",
   "metadata": {},
   "source": [
    "### - Socioeconomic data available from the open data portal https://datosabiertos.bogota.gov.co/, downloaded as csv and loaded as follows:"
   ]
  },
  {
   "cell_type": "code",
   "execution_count": 29,
   "metadata": {},
   "outputs": [
    {
     "name": "stdout",
     "output_type": "stream",
     "text": [
      "Socioeconomic data loaded successfully!\n"
     ]
    },
    {
     "data": {
      "text/plain": [
       "<bound method NDFrame.head of     OBJECTID_12 Nombre de Localidad  Código de Localidad  \\\n",
       "0             1      BARRIOS UNIDOS                   12   \n",
       "1             2         TEUSAQUILLO                   13   \n",
       "2             3       PUENTE ARANDA                   16   \n",
       "3             4        LOS MARTIRES                   14   \n",
       "4             5      ANTONIO NARIÑO                   15   \n",
       "5             6          TUNJUELITO                    6   \n",
       "6             7  RAFAEL URIBE URIBE                   18   \n",
       "7             8          CANDELARIA                   17   \n",
       "8             9            SANTA FE                    3   \n",
       "9            10                SUBA                   11   \n",
       "10           11             USAQUEN                    1   \n",
       "11           12           CHAPINERO                    2   \n",
       "12           13             KENNEDY                    8   \n",
       "13           14            ENGATIVA                   10   \n",
       "14           15            FONTIBON                    9   \n",
       "15           16                BOSA                    7   \n",
       "16           17       SAN CRISTOBAL                    4   \n",
       "17           18                USME                    5   \n",
       "18           19      CIUDAD BOLIVAR                   19   \n",
       "\n",
       "    Ingreso per Cápita - Vr             coord_x            coord_y  \n",
       "0              1.343021e+06   -74,0735516048507   4,66956693370471  \n",
       "1              2.450715e+06  -74,08576902082503  4,641173586924091  \n",
       "2              8.849911e+05  -74,11158023421255  4,616245470579256  \n",
       "3              8.566317e+05  -74,08794786927194  4,607155935353575  \n",
       "4              9.015037e+05  -74,10284239371497  4,588770674746837  \n",
       "5              6.939201e+05  -74,13598943071625  4,574841397552535  \n",
       "6              6.016646e+05  -74,11336319380995  4,566476901883269  \n",
       "7              1.177067e+06  -74,07207080258202  4,596605075862799  \n",
       "8              7.433612e+05  -74,03778152667135  4,594087554138645  \n",
       "9              1.354622e+06  -74,07584527663424  4,763208121740894  \n",
       "10             1.948544e+06  -74,02782483495837  4,742092414203429  \n",
       "11             3.813290e+06   -74,0368830358354  4,644982720917601  \n",
       "12             7.303920e+05  -74,15266762627327  4,630347351857015  \n",
       "13             9.907373e+05  -74,11318770089846  4,701125563460063  \n",
       "14             1.238466e+06  -74,14015130375911  4,678182926456494  \n",
       "15             4.980884e+05  -74,19438893507633  4,621779960199335  \n",
       "16             5.315325e+05  -74,06607255538187  4,548749008969056  \n",
       "17             4.280889e+05   -74,1428064965447  4,390025128657094  \n",
       "18             4.492453e+05  -74,16195890665995  4,482460266356548  >"
      ]
     },
     "execution_count": 29,
     "metadata": {},
     "output_type": "execute_result"
    }
   ],
   "source": [
    "#Location data, by burrough and neighborhood\n",
    "wealth = pd.read_csv('/resources/data/pibpercapitalocalidad.csv')\n",
    "print(\"Socioeconomic data loaded successfully!\")\n",
    "wealth.head"
   ]
  },
  {
   "cell_type": "markdown",
   "metadata": {},
   "source": [
    "### **d. People who visit that neighbourhood are interested in things which usually cluster well with vegetarianism:** \n",
    "### Data from Foursquare will be clustered using k-means clustering, and subsetted, keeping only clusters with vegetarian options in them. "
   ]
  },
  {
   "cell_type": "code",
   "execution_count": 30,
   "metadata": {},
   "outputs": [
    {
     "name": "stdout",
     "output_type": "stream",
     "text": [
      "Your credentails:\n",
      "CLIENT_ID: 4O5C0ASE00QSJPU3W1G5C0FJWZHBNUK3RGWLFL21NF0PCDMK\n",
      "CLIENT_SECRET:LXOVGDCRFEVZCI4MGGC5JXAQVJL4PZM2N05NLQATJSF2XUMK\n"
     ]
    }
   ],
   "source": [
    "CLIENT_ID = '4O5C0ASE00QSJPU3W1G5C0FJWZHBNUK3RGWLFL21NF0PCDMK' \n",
    "CLIENT_SECRET = 'LXOVGDCRFEVZCI4MGGC5JXAQVJL4PZM2N05NLQATJSF2XUMK' \n",
    "VERSION = '20180605'\n",
    "\n",
    "print('Your credentails:')\n",
    "print('CLIENT_ID: ' + CLIENT_ID)\n",
    "print('CLIENT_SECRET:' + CLIENT_SECRET)"
   ]
  },
  {
   "cell_type": "code",
   "execution_count": null,
   "metadata": {},
   "outputs": [],
   "source": []
  }
 ],
 "metadata": {
  "kernelspec": {
   "display_name": "Python",
   "language": "python",
   "name": "conda-env-python-py"
  },
  "language_info": {
   "codemirror_mode": {
    "name": "ipython",
    "version": 3
   },
   "file_extension": ".py",
   "mimetype": "text/x-python",
   "name": "python",
   "nbconvert_exporter": "python",
   "pygments_lexer": "ipython3",
   "version": "3.6.11"
  }
 },
 "nbformat": 4,
 "nbformat_minor": 4
}
